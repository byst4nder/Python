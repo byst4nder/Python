{
 "cells": [
  {
   "cell_type": "code",
   "execution_count": 1,
   "metadata": {},
   "outputs": [
    {
     "name": "stdout",
     "output_type": "stream",
     "text": [
      "[['.', '.', '.', '.', '.', '.'], ['.', 'O', 'O', '.', '.', '.'], ['O', 'O', 'O', 'O', '.', '.'], ['O', 'O', 'O', 'O', 'O', '.'], ['.', 'O', 'O', 'O', 'O', 'O'], ['O', 'O', 'O', 'O', 'O', '.'], ['O', 'O', 'O', 'O', '.', '.'], ['.', 'O', 'O', '.', '.', '.'], ['.', '.', '.', '.', '.', '.']]\n"
     ]
    }
   ],
   "source": [
    "#打印字符图网络\n",
    "grid = [['.', '.', '.', '.', '.', '.'], \n",
    "        ['.', 'O', 'O', '.', '.', '.'], \n",
    "        ['O', 'O', 'O', 'O', '.', '.'], \n",
    "        ['O', 'O', 'O', 'O', 'O', '.'], \n",
    "        ['.', 'O', 'O', 'O', 'O', 'O'], \n",
    "        ['O', 'O', 'O', 'O', 'O', '.'], \n",
    "        ['O', 'O', 'O', 'O', '.', '.'], \n",
    "        ['.', 'O', 'O', '.', '.', '.'], \n",
    "        ['.', '.', '.', '.', '.', '.']] \n",
    "\n",
    "print(grid)"
   ]
  },
  {
   "cell_type": "code",
   "execution_count": null,
   "metadata": {},
   "outputs": [],
   "source": []
  }
 ],
 "metadata": {
  "kernelspec": {
   "display_name": "Python 3",
   "language": "python",
   "name": "python3"
  },
  "language_info": {
   "codemirror_mode": {
    "name": "ipython",
    "version": 3
   },
   "file_extension": ".py",
   "mimetype": "text/x-python",
   "name": "python",
   "nbconvert_exporter": "python",
   "pygments_lexer": "ipython3",
   "version": "3.7.4"
  }
 },
 "nbformat": 4,
 "nbformat_minor": 2
}
